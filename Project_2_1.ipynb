{
  "nbformat": 4,
  "nbformat_minor": 0,
  "metadata": {
    "colab": {
      "provenance": [],
      "collapsed_sections": [],
      "authorship_tag": "ABX9TyN3XbMKRzipLYhpbZpNBm5T",
      "include_colab_link": true
    },
    "kernelspec": {
      "name": "python3",
      "display_name": "Python 3"
    },
    "language_info": {
      "name": "python"
    },
    "accelerator": "GPU"
  },
  "cells": [
    {
      "cell_type": "markdown",
      "metadata": {
        "id": "view-in-github",
        "colab_type": "text"
      },
      "source": [
        "<a href=\"https://colab.research.google.com/github/sheyda8/Classification-of-Tooth/blob/main/Project_2_1.ipynb\" target=\"_parent\"><img src=\"https://colab.research.google.com/assets/colab-badge.svg\" alt=\"Open In Colab\"/></a>"
      ]
    },
    {
      "cell_type": "markdown",
      "source": [
        "##Loading Dataset from drive"
      ],
      "metadata": {
        "id": "T7iHJYOQhf3i"
      }
    },
    {
      "cell_type": "code",
      "execution_count": 2,
      "metadata": {
        "colab": {
          "base_uri": "https://localhost:8080/"
        },
        "id": "eDCfVnjEC9dL",
        "outputId": "f1be7982-ebda-4c13-9331-3665c10dedb0"
      },
      "outputs": [
        {
          "output_type": "stream",
          "name": "stdout",
          "text": [
            "Mounted at /content/drive\n"
          ]
        }
      ],
      "source": [
        "from google.colab import drive\n",
        "drive.mount('/content/drive')"
      ]
    },
    {
      "cell_type": "code",
      "source": [
        "from tensorflow import keras"
      ],
      "metadata": {
        "id": "xKQgDnaFIX-8"
      },
      "execution_count": 1,
      "outputs": []
    },
    {
      "cell_type": "code",
      "source": [
        "from tensorflow.keras.utils import image_dataset_from_directory"
      ],
      "metadata": {
        "id": "gYG4PymWIziX"
      },
      "execution_count": 3,
      "outputs": []
    },
    {
      "cell_type": "code",
      "source": [
        "import pathlib, os"
      ],
      "metadata": {
        "id": "GlKR7YUiI25-"
      },
      "execution_count": 4,
      "outputs": []
    },
    {
      "cell_type": "code",
      "source": [
        "base_dir= pathlib.Path(\"/content/drive/MyDrive/Dataset\")"
      ],
      "metadata": {
        "id": "W4e9NEvHJBno"
      },
      "execution_count": 5,
      "outputs": []
    },
    {
      "cell_type": "code",
      "source": [
        "train_dataset = image_dataset_from_directory(\n",
        "    os.path.join(base_dir,'Train'),\n",
        "    image_size=(180, 180),\n",
        "    label_mode='binary',\n",
        "    labels='inferred',\n",
        "    batch_size=32)"
      ],
      "metadata": {
        "colab": {
          "base_uri": "https://localhost:8080/"
        },
        "id": "UdBpzL0hJGxd",
        "outputId": "c780ac41-65c9-437b-b2aa-082977d06145"
      },
      "execution_count": 6,
      "outputs": [
        {
          "output_type": "stream",
          "name": "stdout",
          "text": [
            "Found 198 files belonging to 2 classes.\n"
          ]
        }
      ]
    },
    {
      "cell_type": "code",
      "source": [
        "Validation_dataset = image_dataset_from_directory(\n",
        "    os.path.join(base_dir, 'Validation'),\n",
        "    image_size=(180, 180),\n",
        "    label_mode='binary',\n",
        "    labels='inferred',\n",
        "    batch_size=32)\n"
      ],
      "metadata": {
        "colab": {
          "base_uri": "https://localhost:8080/"
        },
        "id": "zjS0EaLDJNlm",
        "outputId": "c7d617da-6be8-4028-d08d-be31c7995cb5"
      },
      "execution_count": 7,
      "outputs": [
        {
          "output_type": "stream",
          "name": "stdout",
          "text": [
            "Found 39 files belonging to 2 classes.\n"
          ]
        }
      ]
    },
    {
      "cell_type": "code",
      "source": [
        "test_dataset = image_dataset_from_directory(\n",
        "    os.path.join(base_dir, 'Test'),\n",
        "    image_size=(180, 180),\n",
        "    label_mode='binary',\n",
        "    labels='inferred',\n",
        "    batch_size=32)"
      ],
      "metadata": {
        "colab": {
          "base_uri": "https://localhost:8080/"
        },
        "id": "X_rl7BCyKshB",
        "outputId": "59861da1-73e4-4977-d413-255af9e9146f"
      },
      "execution_count": 8,
      "outputs": [
        {
          "output_type": "stream",
          "name": "stdout",
          "text": [
            "Found 52 files belonging to 2 classes.\n"
          ]
        }
      ]
    },
    {
      "cell_type": "code",
      "source": [
        "for data_batch, labels_batch in train_dataset:\n",
        "    print(\"data batch shape:\", data_batch.shape)\n",
        "    print(\"labels batch shape:\", labels_batch.shape)\n",
        "    break"
      ],
      "metadata": {
        "colab": {
          "base_uri": "https://localhost:8080/"
        },
        "id": "LGwpeeTvKup1",
        "outputId": "4daecd19-796d-4f26-990f-f8a479be6f00"
      },
      "execution_count": 9,
      "outputs": [
        {
          "output_type": "stream",
          "name": "stdout",
          "text": [
            "data batch shape: (32, 180, 180, 3)\n",
            "labels batch shape: (32, 1)\n"
          ]
        }
      ]
    },
    {
      "cell_type": "markdown",
      "source": [
        "##Loading Pretrained Model\n"
      ],
      "metadata": {
        "id": "Zdwxtq79hb7c"
      }
    },
    {
      "cell_type": "code",
      "source": [
        "from tensorflow import keras\n",
        "from tensorflow.keras import layers\n",
        "cnn_base=keras.applications.vgg16.VGG16(\n",
        "    weights='imagenet',\n",
        "    include_top=False,\n",
        "    input_shape=(180,180,3))\n",
        "cnn_base.trainable=False"
      ],
      "metadata": {
        "colab": {
          "base_uri": "https://localhost:8080/"
        },
        "id": "-QTJDh6gLNsr",
        "outputId": "087c35a3-e5c4-4d05-f1cf-7e949710b987"
      },
      "execution_count": 10,
      "outputs": [
        {
          "output_type": "stream",
          "name": "stdout",
          "text": [
            "Downloading data from https://storage.googleapis.com/tensorflow/keras-applications/vgg16/vgg16_weights_tf_dim_ordering_tf_kernels_notop.h5\n",
            "58889256/58889256 [==============================] - 0s 0us/step\n"
          ]
        }
      ]
    },
    {
      "cell_type": "code",
      "source": [
        "cnn_base.summary()"
      ],
      "metadata": {
        "colab": {
          "base_uri": "https://localhost:8080/"
        },
        "id": "X3ihVp19L5BC",
        "outputId": "1196ad70-7a4f-455d-98f3-77914fc18cce"
      },
      "execution_count": 11,
      "outputs": [
        {
          "output_type": "stream",
          "name": "stdout",
          "text": [
            "Model: \"vgg16\"\n",
            "_________________________________________________________________\n",
            " Layer (type)                Output Shape              Param #   \n",
            "=================================================================\n",
            " input_1 (InputLayer)        [(None, 180, 180, 3)]     0         \n",
            "                                                                 \n",
            " block1_conv1 (Conv2D)       (None, 180, 180, 64)      1792      \n",
            "                                                                 \n",
            " block1_conv2 (Conv2D)       (None, 180, 180, 64)      36928     \n",
            "                                                                 \n",
            " block1_pool (MaxPooling2D)  (None, 90, 90, 64)        0         \n",
            "                                                                 \n",
            " block2_conv1 (Conv2D)       (None, 90, 90, 128)       73856     \n",
            "                                                                 \n",
            " block2_conv2 (Conv2D)       (None, 90, 90, 128)       147584    \n",
            "                                                                 \n",
            " block2_pool (MaxPooling2D)  (None, 45, 45, 128)       0         \n",
            "                                                                 \n",
            " block3_conv1 (Conv2D)       (None, 45, 45, 256)       295168    \n",
            "                                                                 \n",
            " block3_conv2 (Conv2D)       (None, 45, 45, 256)       590080    \n",
            "                                                                 \n",
            " block3_conv3 (Conv2D)       (None, 45, 45, 256)       590080    \n",
            "                                                                 \n",
            " block3_pool (MaxPooling2D)  (None, 22, 22, 256)       0         \n",
            "                                                                 \n",
            " block4_conv1 (Conv2D)       (None, 22, 22, 512)       1180160   \n",
            "                                                                 \n",
            " block4_conv2 (Conv2D)       (None, 22, 22, 512)       2359808   \n",
            "                                                                 \n",
            " block4_conv3 (Conv2D)       (None, 22, 22, 512)       2359808   \n",
            "                                                                 \n",
            " block4_pool (MaxPooling2D)  (None, 11, 11, 512)       0         \n",
            "                                                                 \n",
            " block5_conv1 (Conv2D)       (None, 11, 11, 512)       2359808   \n",
            "                                                                 \n",
            " block5_conv2 (Conv2D)       (None, 11, 11, 512)       2359808   \n",
            "                                                                 \n",
            " block5_conv3 (Conv2D)       (None, 11, 11, 512)       2359808   \n",
            "                                                                 \n",
            " block5_pool (MaxPooling2D)  (None, 5, 5, 512)         0         \n",
            "                                                                 \n",
            "=================================================================\n",
            "Total params: 14,714,688\n",
            "Trainable params: 0\n",
            "Non-trainable params: 14,714,688\n",
            "_________________________________________________________________\n"
          ]
        }
      ]
    },
    {
      "cell_type": "markdown",
      "source": [
        "##Data Augmentation"
      ],
      "metadata": {
        "id": "EeKZT8ujhlOP"
      }
    },
    {
      "cell_type": "code",
      "source": [
        "data_augmentation=keras.Sequential(\n",
        "    [layers.RandomFlip(\"horizontal\"),\n",
        "    layers.RandomRotation(0.2),\n",
        "    layers.RandomZoom(0.3)\n",
        "    ])"
      ],
      "metadata": {
        "id": "Q2XN6LwiL8ge"
      },
      "execution_count": 12,
      "outputs": []
    },
    {
      "cell_type": "markdown",
      "source": [
        "##Desiging Model"
      ],
      "metadata": {
        "id": "_H6tH-75hr6C"
      }
    },
    {
      "cell_type": "code",
      "source": [
        "inputs=keras.Input(shape=(180,180,3))\n",
        "x=data_augmentation(inputs)\n",
        "x=keras.applications.vgg16.preprocess_input(x)\n",
        "x=cnn_base(x)\n",
        "x=layers.Flatten()(x)\n",
        "x=layers.Dense(256,activation='relu')(x)\n",
        "x=layers.Dense(1, activation='sigmoid')(x)\n",
        "model=keras.Model(inputs=inputs, outputs=x)\n",
        "\n",
        "model.compile(loss='binary_crossentropy',\n",
        "              optimizer='adam',\n",
        "              metrics=['accuracy'])\n",
        "\n",
        "model.summary()"
      ],
      "metadata": {
        "colab": {
          "base_uri": "https://localhost:8080/"
        },
        "id": "WZARYZ-5MHPA",
        "outputId": "488a49d6-9be0-4aba-8729-999cc71b536d"
      },
      "execution_count": 13,
      "outputs": [
        {
          "output_type": "stream",
          "name": "stdout",
          "text": [
            "Model: \"model\"\n",
            "_________________________________________________________________\n",
            " Layer (type)                Output Shape              Param #   \n",
            "=================================================================\n",
            " input_2 (InputLayer)        [(None, 180, 180, 3)]     0         \n",
            "                                                                 \n",
            " sequential (Sequential)     (None, 180, 180, 3)       0         \n",
            "                                                                 \n",
            " tf.__operators__.getitem (S  (None, 180, 180, 3)      0         \n",
            " licingOpLambda)                                                 \n",
            "                                                                 \n",
            " tf.nn.bias_add (TFOpLambda)  (None, 180, 180, 3)      0         \n",
            "                                                                 \n",
            " vgg16 (Functional)          (None, 5, 5, 512)         14714688  \n",
            "                                                                 \n",
            " flatten (Flatten)           (None, 12800)             0         \n",
            "                                                                 \n",
            " dense (Dense)               (None, 256)               3277056   \n",
            "                                                                 \n",
            " dense_1 (Dense)             (None, 1)                 257       \n",
            "                                                                 \n",
            "=================================================================\n",
            "Total params: 17,992,001\n",
            "Trainable params: 3,277,313\n",
            "Non-trainable params: 14,714,688\n",
            "_________________________________________________________________\n"
          ]
        }
      ]
    },
    {
      "cell_type": "code",
      "source": [
        "callbacks= [\n",
        "    keras.callbacks.ModelCheckpoint(\n",
        "        filepath=\"feature_extraction_with_Data_augmentation.keras\",\n",
        "        save_best_only= True,\n",
        "        monitor='val_loss'\n",
        "    )\n",
        "]"
      ],
      "metadata": {
        "id": "ZO_G2IwoNfU0"
      },
      "execution_count": 14,
      "outputs": []
    },
    {
      "cell_type": "markdown",
      "source": [
        "##Training Model"
      ],
      "metadata": {
        "id": "yE7ccOV-h0iO"
      }
    },
    {
      "cell_type": "code",
      "source": [
        "history=model.fit(\n",
        "    train_dataset,\n",
        "    epochs=30,\n",
        "    validation_data=Validation_dataset,\n",
        "    callbacks=callbacks\n",
        ")"
      ],
      "metadata": {
        "colab": {
          "base_uri": "https://localhost:8080/"
        },
        "id": "HhkxSJzhN7eM",
        "outputId": "d7cecd1b-d25b-4e2b-b2ad-6748e0bd74a4"
      },
      "execution_count": 15,
      "outputs": [
        {
          "output_type": "stream",
          "name": "stdout",
          "text": [
            "Epoch 1/30\n",
            "7/7 [==============================] - 23s 2s/step - loss: 13.7445 - accuracy: 0.5808 - val_loss: 2.9687 - val_accuracy: 0.8974\n",
            "Epoch 2/30\n",
            "7/7 [==============================] - 2s 207ms/step - loss: 1.3778 - accuracy: 0.8788 - val_loss: 1.7284 - val_accuracy: 0.8462\n",
            "Epoch 3/30\n",
            "7/7 [==============================] - 2s 201ms/step - loss: 1.2506 - accuracy: 0.8788 - val_loss: 1.2279 - val_accuracy: 0.8718\n",
            "Epoch 4/30\n",
            "7/7 [==============================] - 2s 204ms/step - loss: 0.9329 - accuracy: 0.8434 - val_loss: 0.5745 - val_accuracy: 0.8462\n",
            "Epoch 5/30\n",
            "7/7 [==============================] - 2s 204ms/step - loss: 0.5533 - accuracy: 0.8737 - val_loss: 0.1495 - val_accuracy: 0.9231\n",
            "Epoch 6/30\n",
            "7/7 [==============================] - 2s 168ms/step - loss: 0.2988 - accuracy: 0.9293 - val_loss: 0.2867 - val_accuracy: 0.9231\n",
            "Epoch 7/30\n",
            "7/7 [==============================] - 2s 226ms/step - loss: 0.3867 - accuracy: 0.9192 - val_loss: 0.0697 - val_accuracy: 0.9744\n",
            "Epoch 8/30\n",
            "7/7 [==============================] - 2s 207ms/step - loss: 0.3736 - accuracy: 0.9242 - val_loss: 0.0191 - val_accuracy: 1.0000\n",
            "Epoch 9/30\n",
            "7/7 [==============================] - 2s 168ms/step - loss: 0.2341 - accuracy: 0.9343 - val_loss: 0.1500 - val_accuracy: 0.9487\n",
            "Epoch 10/30\n",
            "7/7 [==============================] - 2s 174ms/step - loss: 0.4205 - accuracy: 0.9040 - val_loss: 0.0219 - val_accuracy: 1.0000\n",
            "Epoch 11/30\n",
            "7/7 [==============================] - 2s 209ms/step - loss: 0.4130 - accuracy: 0.9242 - val_loss: 0.0156 - val_accuracy: 1.0000\n",
            "Epoch 12/30\n",
            "7/7 [==============================] - 2s 212ms/step - loss: 0.2420 - accuracy: 0.9545 - val_loss: 7.1148e-04 - val_accuracy: 1.0000\n",
            "Epoch 13/30\n",
            "7/7 [==============================] - 2s 171ms/step - loss: 0.3327 - accuracy: 0.9293 - val_loss: 0.0235 - val_accuracy: 0.9744\n",
            "Epoch 14/30\n",
            "7/7 [==============================] - 2s 210ms/step - loss: 0.2567 - accuracy: 0.9242 - val_loss: 3.3563e-04 - val_accuracy: 1.0000\n",
            "Epoch 15/30\n",
            "7/7 [==============================] - 2s 170ms/step - loss: 0.3283 - accuracy: 0.9293 - val_loss: 0.0015 - val_accuracy: 1.0000\n",
            "Epoch 16/30\n",
            "7/7 [==============================] - 2s 171ms/step - loss: 0.1170 - accuracy: 0.9697 - val_loss: 0.4429 - val_accuracy: 0.8718\n",
            "Epoch 17/30\n",
            "7/7 [==============================] - 2s 172ms/step - loss: 0.2345 - accuracy: 0.9646 - val_loss: 0.0015 - val_accuracy: 1.0000\n",
            "Epoch 18/30\n",
            "7/7 [==============================] - 2s 167ms/step - loss: 0.2845 - accuracy: 0.9242 - val_loss: 0.0015 - val_accuracy: 1.0000\n",
            "Epoch 19/30\n",
            "7/7 [==============================] - 2s 168ms/step - loss: 0.2260 - accuracy: 0.9495 - val_loss: 0.0162 - val_accuracy: 1.0000\n",
            "Epoch 20/30\n",
            "7/7 [==============================] - 2s 168ms/step - loss: 0.1955 - accuracy: 0.9545 - val_loss: 0.0264 - val_accuracy: 0.9744\n",
            "Epoch 21/30\n",
            "7/7 [==============================] - 2s 169ms/step - loss: 0.0680 - accuracy: 0.9697 - val_loss: 0.0504 - val_accuracy: 0.9744\n",
            "Epoch 22/30\n",
            "7/7 [==============================] - 2s 170ms/step - loss: 0.2188 - accuracy: 0.9646 - val_loss: 0.0856 - val_accuracy: 0.9744\n",
            "Epoch 23/30\n",
            "7/7 [==============================] - 2s 169ms/step - loss: 0.1731 - accuracy: 0.9697 - val_loss: 0.0982 - val_accuracy: 0.9744\n",
            "Epoch 24/30\n",
            "7/7 [==============================] - 2s 169ms/step - loss: 0.1258 - accuracy: 0.9697 - val_loss: 0.0502 - val_accuracy: 0.9744\n",
            "Epoch 25/30\n",
            "7/7 [==============================] - 2s 165ms/step - loss: 0.0539 - accuracy: 0.9798 - val_loss: 0.0400 - val_accuracy: 0.9744\n",
            "Epoch 26/30\n",
            "7/7 [==============================] - 2s 166ms/step - loss: 0.1661 - accuracy: 0.9646 - val_loss: 0.0391 - val_accuracy: 0.9744\n",
            "Epoch 27/30\n",
            "7/7 [==============================] - 2s 166ms/step - loss: 0.0444 - accuracy: 0.9848 - val_loss: 0.0152 - val_accuracy: 1.0000\n",
            "Epoch 28/30\n",
            "7/7 [==============================] - 2s 169ms/step - loss: 0.0863 - accuracy: 0.9747 - val_loss: 0.0382 - val_accuracy: 0.9744\n",
            "Epoch 29/30\n",
            "7/7 [==============================] - 2s 169ms/step - loss: 0.0763 - accuracy: 0.9848 - val_loss: 0.0651 - val_accuracy: 0.9744\n",
            "Epoch 30/30\n",
            "7/7 [==============================] - 2s 169ms/step - loss: 0.1112 - accuracy: 0.9697 - val_loss: 0.0288 - val_accuracy: 0.9744\n"
          ]
        }
      ]
    },
    {
      "cell_type": "markdown",
      "source": [
        "##Evaluation"
      ],
      "metadata": {
        "id": "pmwDZj__h3Mb"
      }
    },
    {
      "cell_type": "code",
      "source": [
        "import matplotlib.pyplot as plt\n",
        "accuracy = history.history[\"accuracy\"]\n",
        "val_accuracy = history.history[\"val_accuracy\"]\n",
        "loss = history.history[\"loss\"]\n",
        "val_loss = history.history[\"val_loss\"]\n",
        "epochs = range(1, len(accuracy) + 1)\n",
        "plt.plot(epochs, accuracy, \"b\", label=\"Training accuracy\")\n",
        "plt.plot(epochs, val_accuracy, \"r\", label=\"Validation accuracy\")\n",
        "plt.title(\"Training and validation accuracy\")\n",
        "plt.legend()\n",
        "plt.figure()\n",
        "plt.plot(epochs, loss, \"b\", label=\"Training loss\")\n",
        "plt.plot(epochs, val_loss, \"r\", label=\"Validation loss\")\n",
        "plt.title(\"Training and validation loss\")\n",
        "plt.legend()\n",
        "plt.show()"
      ],
      "metadata": {
        "colab": {
          "base_uri": "https://localhost:8080/",
          "height": 545
        },
        "id": "5npesMFcOOr8",
        "outputId": "dbe9ca0e-fd32-4fdf-bc69-61ec49f939f8"
      },
      "execution_count": 18,
      "outputs": [
        {
          "output_type": "display_data",
          "data": {
            "text/plain": [
              "<Figure size 432x288 with 1 Axes>"
            ],
            "image/png": "[encoded data removed]"
          },
          "metadata": {
            "needs_background": "light"
          }
        },
        {
          "output_type": "display_data",
          "data": {
            "text/plain": [
              "<Figure size 432x288 with 1 Axes>"
            ],
            "image/png": "[encoded data removed]"
          },
          "metadata": {
            "needs_background": "light"
          }
        }
      ]
    },
    {
      "cell_type": "code",
      "source": [],
      "metadata": {
        "id": "fN3fNPlyYVMA"
      },
      "execution_count": 18,
      "outputs": []
    },
    {
      "cell_type": "markdown",
      "source": [
        "##Checking New Images"
      ],
      "metadata": {
        "id": "Ox5i9Htdh6J3"
      }
    },
    {
      "cell_type": "code",
      "source": [
        "from google.colab import files\n",
        "myfile=files.upload()"
      ],
      "metadata": {
        "colab": {
          "base_uri": "https://localhost:8080/",
          "height": 179
        },
        "id": "1jGexstpaefR",
        "outputId": "4e414e22-c0a3-417d-f5aa-6a5ed1b96780"
      },
      "execution_count": 20,
      "outputs": [
        {
          "output_type": "display_data",
          "data": {
            "text/plain": [
              "<IPython.core.display.HTML object>"
            ],
            "text/html": [
              "\n",
              "     <input type=\"file\" id=\"files-74600518-af32-476f-8a43-8d54e976934d\" name=\"files[]\" multiple disabled\n",
              "        style=\"border:none\" />\n",
              "     <output id=\"result-74600518-af32-476f-8a43-8d54e976934d\">\n",
              "      Upload widget is only available when the cell has been executed in the\n",
              "      current browser session. Please rerun this cell to enable.\n",
              "      </output>\n",
              "      <script>// Copyright 2017 Google LLC\n",
              "//\n",
              "// Licensed under the Apache License, Version 2.0 (the \"License\");\n",
              "// you may not use this file except in compliance with the License.\n",
              "// You may obtain a copy of the License at\n",
              "//\n",
              "//      http://www.apache.org/licenses/LICENSE-2.0\n",
              "//\n",
              "// Unless required by applicable law or agreed to in writing, software\n",
              "// distributed under the License is distributed on an \"AS IS\" BASIS,\n",
              "// WITHOUT WARRANTIES OR CONDITIONS OF ANY KIND, either express or implied.\n",
              "// See the License for the specific language governing permissions and\n",
              "// limitations under the License.\n",
              "\n",
              "/**\n",
              " * @fileoverview Helpers for google.colab Python module.\n",
              " */\n",
              "(function(scope) {\n",
              "function span(text, styleAttributes = {}) {\n",
              "  const element = document.createElement('span');\n",
              "  element.textContent = text;\n",
              "  for (const key of Object.keys(styleAttributes)) {\n",
              "    element.style[key] = styleAttributes[key];\n",
              "  }\n",
              "  return element;\n",
              "}\n",
              "\n",
              "// Max number of bytes which will be uploaded at a time.\n",
              "const MAX_PAYLOAD_SIZE = 100 * 1024;\n",
              "\n",
              "function _uploadFiles(inputId, outputId) {\n",
              "  const steps = uploadFilesStep(inputId, outputId);\n",
              "  const outputElement = document.getElementById(outputId);\n",
              "  // Cache steps on the outputElement to make it available for the next call\n",
              "  // to uploadFilesContinue from Python.\n",
              "  outputElement.steps = steps;\n",
              "\n",
              "  return _uploadFilesContinue(outputId);\n",
              "}\n",
              "\n",
              "// This is roughly an async generator (not supported in the browser yet),\n",
              "// where there are multiple asynchronous steps and the Python side is going\n",
              "// to poll for completion of each step.\n",
              "// This uses a Promise to block the python side on completion of each step,\n",
              "// then passes the result of the previous step as the input to the next step.\n",
              "function _uploadFilesContinue(outputId) {\n",
              "  const outputElement = document.getElementById(outputId);\n",
              "  const steps = outputElement.steps;\n",
              "\n",
              "  const next = steps.next(outputElement.lastPromiseValue);\n",
              "  return Promise.resolve(next.value.promise).then((value) => {\n",
              "    // Cache the last promise value to make it available to the next\n",
              "    // step of the generator.\n",
              "    outputElement.lastPromiseValue = value;\n",
              "    return next.value.response;\n",
              "  });\n",
              "}\n",
              "\n",
              "/**\n",
              " * Generator function which is called between each async step of the upload\n",
              " * process.\n",
              " * @param {string} inputId Element ID of the input file picker element.\n",
              " * @param {string} outputId Element ID of the output display.\n",
              " * @return {!Iterable<!Object>} Iterable of next steps.\n",
              " */\n",
              "function* uploadFilesStep(inputId, outputId) {\n",
              "  const inputElement = document.getElementById(inputId);\n",
              "  inputElement.disabled = false;\n",
              "\n",
              "  const outputElement = document.getElementById(outputId);\n",
              "  outputElement.innerHTML = '';\n",
              "\n",
              "  const pickedPromise = new Promise((resolve) => {\n",
              "    inputElement.addEventListener('change', (e) => {\n",
              "      resolve(e.target.files);\n",
              "    });\n",
              "  });\n",
              "\n",
              "  const cancel = document.createElement('button');\n",
              "  inputElement.parentElement.appendChild(cancel);\n",
              "  cancel.textContent = 'Cancel upload';\n",
              "  const cancelPromise = new Promise((resolve) => {\n",
              "    cancel.onclick = () => {\n",
              "      resolve(null);\n",
              "    };\n",
              "  });\n",
              "\n",
              "  // Wait for the user to pick the files.\n",
              "  const files = yield {\n",
              "    promise: Promise.race([pickedPromise, cancelPromise]),\n",
              "    response: {\n",
              "      action: 'starting',\n",
              "    }\n",
              "  };\n",
              "\n",
              "  cancel.remove();\n",
              "\n",
              "  // Disable the input element since further picks are not allowed.\n",
              "  inputElement.disabled = true;\n",
              "\n",
              "  if (!files) {\n",
              "    return {\n",
              "      response: {\n",
              "        action: 'complete',\n",
              "      }\n",
              "    };\n",
              "  }\n",
              "\n",
              "  for (const file of files) {\n",
              "    const li = document.createElement('li');\n",
              "    li.append(span(file.name, {fontWeight: 'bold'}));\n",
              "    li.append(span(\n",
              "        `(${file.type || 'n/a'}) - ${file.size} bytes, ` +\n",
              "        `last modified: ${\n",
              "            file.lastModifiedDate ? file.lastModifiedDate.toLocaleDateString() :\n",
              "                                    'n/a'} - `));\n",
              "    const percent = span('0% done');\n",
              "    li.appendChild(percent);\n",
              "\n",
              "    outputElement.appendChild(li);\n",
              "\n",
              "    const fileDataPromise = new Promise((resolve) => {\n",
              "      const reader = new FileReader();\n",
              "      reader.onload = (e) => {\n",
              "        resolve(e.target.result);\n",
              "      };\n",
              "      reader.readAsArrayBuffer(file);\n",
              "    });\n",
              "    // Wait for the data to be ready.\n",
              "    let fileData = yield {\n",
              "      promise: fileDataPromise,\n",
              "      response: {\n",
              "        action: 'continue',\n",
              "      }\n",
              "    };\n",
              "\n",
              "    // Use a chunked sending to avoid message size limits. See b/62115660.\n",
              "    let position = 0;\n",
              "    do {\n",
              "      const length = Math.min(fileData.byteLength - position, MAX_PAYLOAD_SIZE);\n",
              "      const chunk = new Uint8Array(fileData, position, length);\n",
              "      position += length;\n",
              "\n",
              "      const base64 = btoa(String.fromCharCode.apply(null, chunk));\n",
              "      yield {\n",
              "        response: {\n",
              "          action: 'append',\n",
              "          file: file.name,\n",
              "          data: base64,\n",
              "        },\n",
              "      };\n",
              "\n",
              "      let percentDone = fileData.byteLength === 0 ?\n",
              "          100 :\n",
              "          Math.round((position / fileData.byteLength) * 100);\n",
              "      percent.textContent = `${percentDone}% done`;\n",
              "\n",
              "    } while (position < fileData.byteLength);\n",
              "  }\n",
              "\n",
              "  // All done.\n",
              "  yield {\n",
              "    response: {\n",
              "      action: 'complete',\n",
              "    }\n",
              "  };\n",
              "}\n",
              "\n",
              "scope.google = scope.google || {};\n",
              "scope.google.colab = scope.google.colab || {};\n",
              "scope.google.colab._files = {\n",
              "  _uploadFiles,\n",
              "  _uploadFilesContinue,\n",
              "};\n",
              "})(self);\n",
              "</script> "
            ]
          },
          "metadata": {}
        },
        {
          "output_type": "stream",
          "name": "stdout",
          "text": [
            "Saving aa.jpeg to aa.jpeg\n",
            "Saving aa2.jpeg to aa2.jpeg\n",
            "Saving pp2.jpeg to pp2.jpeg\n",
            "Saving pp.jpeg to pp.jpeg\n"
          ]
        }
      ]
    },
    {
      "cell_type": "code",
      "source": [
        "import numpy as np\n",
        "from tensorflow.keras.preprocessing import image\n",
        "img3_path=\"/content/pp.jpeg\"\n",
        "img = image.load_img(img3_path, target_size=(180, 180))\n",
        "x = image.img_to_array(img)\n",
        "x = np.expand_dims(x, axis=0)\n",
        "x = keras.applications.vgg16.preprocess_input(x)\n",
        "pred = model.predict(x)"
      ],
      "metadata": {
        "colab": {
          "base_uri": "https://localhost:8080/"
        },
        "id": "osGISjMlf-n5",
        "outputId": "9217e13c-c2f5-4531-b9cf-b6c6b8cf6cc1"
      },
      "execution_count": 30,
      "outputs": [
        {
          "output_type": "stream",
          "name": "stdout",
          "text": [
            "1/1 [==============================] - 0s 15ms/step\n"
          ]
        }
      ]
    },
    {
      "cell_type": "code",
      "source": [
        "import matplotlib.pyplot as plt\n",
        "\n",
        "plt.imshow(img)\n",
        "plt.axis(\"off\")\n",
        "if pred<0.5:\n",
        "    plt.title('Anterior')\n",
        "else:\n",
        "    plt.title('Posterior')"
      ],
      "metadata": {
        "colab": {
          "base_uri": "https://localhost:8080/",
          "height": 264
        },
        "id": "r5LtPagBgQR2",
        "outputId": "7ff4c45c-f4e2-4061-bce6-1a06d683f5d7"
      },
      "execution_count": 31,
      "outputs": [
        {
          "output_type": "display_data",
          "data": {
            "text/plain": [
              "<Figure size 432x288 with 1 Axes>"
            ],
            "image/png": "[encoded data removed]"
          },
          "metadata": {
            "needs_background": "light"
          }
        }
      ]
    },
    {
      "cell_type": "code",
      "source": [
        "#one error in classification >>>>:\n",
        "\n",
        "import numpy as np\n",
        "from tensorflow.keras.preprocessing import image\n",
        "img3_path=\"/content/pp2.jpeg\"\n",
        "img = image.load_img(img3_path, target_size=(180, 180))\n",
        "x = image.img_to_array(img)\n",
        "x = np.expand_dims(x, axis=0)\n",
        "x = keras.applications.vgg16.preprocess_input(x)\n",
        "pred = model.predict(x)\n",
        "import matplotlib.pyplot as plt\n",
        "\n",
        "plt.imshow(img)\n",
        "plt.axis(\"off\")\n",
        "if pred<0.5:\n",
        "    plt.title('Anterior')\n",
        "else:\n",
        "    plt.title('Posterior')"
      ],
      "metadata": {
        "colab": {
          "base_uri": "https://localhost:8080/",
          "height": 282
        },
        "id": "lPNyh3lZguVh",
        "outputId": "95b8a103-d1c9-4aad-d7b9-23c27ac051ff"
      },
      "execution_count": 32,
      "outputs": [
        {
          "output_type": "stream",
          "name": "stdout",
          "text": [
            "1/1 [==============================] - 0s 19ms/step\n"
          ]
        },
        {
          "output_type": "display_data",
          "data": {
            "text/plain": [
              "<Figure size 432x288 with 1 Axes>"
            ],
            "image/png": "[encoded data removed]"
          },
          "metadata": {
            "needs_background": "light"
          }
        }
      ]
    },
    {
      "cell_type": "code",
      "source": [
        "model.save('Final project')"
      ],
      "metadata": {
        "colab": {
          "base_uri": "https://localhost:8080/"
        },
        "id": "eyq48UGsfgQM",
        "outputId": "a060ace9-8c7f-4614-e12d-7205d48685e3"
      },
      "execution_count": 27,
      "outputs": [
        {
          "output_type": "stream",
          "name": "stderr",
          "text": [
            "WARNING:absl:Found untraced functions such as _jit_compiled_convolution_op, _jit_compiled_convolution_op, _jit_compiled_convolution_op, _jit_compiled_convolution_op, _jit_compiled_convolution_op while saving (showing 5 of 13). These functions will not be directly callable after loading.\n"
          ]
        }
      ]
    },
    {
      "cell_type": "code",
      "source": [
        "These Model Classifies Anterior tooth from posterior in Periapical radiographic images. It uses VGG16 as a pretraiend model. I collected the dataset from google images and i categorized it.."
      ],
      "metadata": {
        "id": "JXNt1E3UfwJ_"
      },
      "execution_count": null,
      "outputs": []
    }
  ]
}